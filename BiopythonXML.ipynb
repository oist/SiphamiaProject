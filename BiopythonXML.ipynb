{
 "cells": [
  {
   "cell_type": "markdown",
   "metadata": {},
   "source": [
    "# This is an example with only ONE XML file\n",
    "## multiblastXML.ipynb is the final version of this code"
   ]
  },
  {
   "cell_type": "code",
   "execution_count": 2,
   "metadata": {
    "collapsed": true
   },
   "outputs": [],
   "source": [
    "from Bio.Blast import NCBIXML"
   ]
  },
  {
   "cell_type": "code",
   "execution_count": 3,
   "metadata": {
    "collapsed": false
   },
   "outputs": [
    {
     "data": {
      "text/plain": [
       "42"
      ]
     },
     "execution_count": 3,
     "metadata": {},
     "output_type": "execute_result"
    }
   ],
   "source": [
    "blast = NCBIXML.parse(open('/Users/brisbin/desktop/FPKMfilter.xml','rU'))\n",
    "\n",
    "geneIDlist=[]\n",
    "giNUMlist=[]\n",
    "for record in blast:\n",
    "    if record.alignments:\n",
    "        #print gene id\n",
    "         geneIDlist.append(record.query)\n",
    "        # to print the \"best\" matches title\n",
    "         giNUMlist.append(record.alignments[0].title)\n",
    "        # to print the query sequence\n",
    "        #print record.alignments[0].hsps[0].query\n",
    "        \n",
    "        #'hsps.query' is not the raw sequence. The 'record.query' will give the gene id which can be \n",
    "        # used to attain the raw sequence\n",
    "        #use seqIO to get raw seuqence from the gene_id\n",
    "\n",
    "len(geneIDlist)"
   ]
  },
  {
   "cell_type": "code",
   "execution_count": 42,
   "metadata": {
    "collapsed": false
   },
   "outputs": [
    {
     "data": {
      "text/plain": [
       "[u'TRINITY_DN80050_c0_g2_i1 len=2343 path=[4811:0-408 4828:409-629 4818:630-653 4827:654-1080 4829:1081-1104 4830:1105-1105 4816:1106-2342] [-1, 4811, 4828, 4818, 4827, 4829, 4830, 4816, -2]',\n",
       " u'TRINITY_DN97813_c0_g1_i2 len=1946 path=[4282:0-1018 4312:1019-1249 4296:1250-1273 4313:1274-1380 4311:1381-1490 4315:1491-1491 4307:1492-1588 4285:1589-1612 4286:1613-1945] [-1, 4282, 4312, 4296, 4313, 4311, 4315, 4307, 4285, 4286, -2]']"
      ]
     },
     "execution_count": 42,
     "metadata": {},
     "output_type": "execute_result"
    }
   ],
   "source": [
    "geneIDlist[1:3]"
   ]
  },
  {
   "cell_type": "code",
   "execution_count": 4,
   "metadata": {
    "collapsed": false
   },
   "outputs": [
    {
     "data": {
      "text/plain": [
       "[u'gnl|BL_ORD_ID|50254456 gi|734606819|ref|XP_010730570.1| PREDICTED: cytoplasmic dynein 2 heavy chain 1 isoform X1 [Larimichthys crocea]',\n",
       " u'gnl|BL_ORD_ID|41475618 gi|657556813|ref|XP_008282673.1| PREDICTED: uncharacterized protein LOC103359216 [Stegastes partitus]']"
      ]
     },
     "execution_count": 4,
     "metadata": {},
     "output_type": "execute_result"
    }
   ],
   "source": [
    "# list of hit titles - includes the gi number, ACN, and species\n",
    "giNUMlist[1:3]"
   ]
  },
  {
   "cell_type": "code",
   "execution_count": 44,
   "metadata": {
    "collapsed": false
   },
   "outputs": [
    {
     "data": {
      "text/plain": [
       "42"
      ]
     },
     "execution_count": 44,
     "metadata": {},
     "output_type": "execute_result"
    }
   ],
   "source": [
    "len(giNUMlist)"
   ]
  },
  {
   "cell_type": "code",
   "execution_count": 46,
   "metadata": {
    "collapsed": false
   },
   "outputs": [
    {
     "data": {
      "text/plain": [
       "[u'551507710', u'734606819', u'657556813', u'657541701', u'657556096']"
      ]
     },
     "execution_count": 46,
     "metadata": {},
     "output_type": "execute_result"
    }
   ],
   "source": [
    "# strip  hit title to give a list of just the gi numbers\n",
    "newGIlist=[]\n",
    "for i in range(0,len(giNUMlist)):\n",
    "    newGI= (giNUMlist[i].split(\"|\")[3])\n",
    "    newGIlist.append(newGI)\n",
    "  \n",
    "newGIlist[0:5]"
   ]
  },
  {
   "cell_type": "code",
   "execution_count": 47,
   "metadata": {
    "collapsed": false
   },
   "outputs": [
    {
     "data": {
      "text/plain": [
       "[u'TRINITY_DN98892_c3_g2_i2',\n",
       " u'TRINITY_DN80050_c0_g2_i1',\n",
       " u'TRINITY_DN97813_c0_g1_i2',\n",
       " u'TRINITY_DN96404_c0_g1_i1',\n",
       " u'TRINITY_DN55485_c0_g1_i1']"
      ]
     },
     "execution_count": 47,
     "metadata": {},
     "output_type": "execute_result"
    }
   ],
   "source": [
    "# strip query title to include ony the gene_id\n",
    "newGENElist=[]\n",
    "for i in range(0,len(geneIDlist)):\n",
    "    newGENE= (geneIDlist[i].split(\" \")[0])\n",
    "    newGENElist.append(newGENE)\n",
    "  \n",
    "newGENElist[0:5]"
   ]
  },
  {
   "cell_type": "code",
   "execution_count": 10,
   "metadata": {
    "collapsed": false
   },
   "outputs": [
    {
     "data": {
      "text/plain": [
       "[u'XP_005805384.1', u'XP_010730570.1', u'XP_008282673.1']"
      ]
     },
     "execution_count": 10,
     "metadata": {},
     "output_type": "execute_result"
    }
   ],
   "source": [
    "## strip the hit title list to include a list of accession numbers only\n",
    "ACNlist=[]\n",
    "for i in range(0,len(giNUMlist)):\n",
    "    newACN= (giNUMlist[i].split(\"|\")[5])\n",
    "    ACNlist.append(newACN)\n",
    "  \n",
    "ACNlist[0:3]"
   ]
  },
  {
   "cell_type": "markdown",
   "metadata": {},
   "source": [
    "If using entrez to search taxonomy database: gi or ACN will not return results. Need to search with species. "
   ]
  },
  {
   "cell_type": "code",
   "execution_count": 48,
   "metadata": {
    "collapsed": false
   },
   "outputs": [
    {
     "data": {
      "text/plain": [
       "[u'Xiphophorus maculatus',\n",
       " u'Larimichthys crocea',\n",
       " u'Stegastes partitus',\n",
       " u'Stegastes partitus',\n",
       " u'Stegastes partitus',\n",
       " u'Photobacterium leiognathi',\n",
       " u'Larimichthys crocea',\n",
       " u'Oreochromis niloticus',\n",
       " u'Larimichthys crocea',\n",
       " u'Larimichthys crocea',\n",
       " u'Neolamprologus brichardi',\n",
       " u'Poecilia formosa',\n",
       " u'Larimichthys crocea',\n",
       " u'Scleropages formosus',\n",
       " u'Haplochromis burtoni',\n",
       " u'Oreochromis niloticus',\n",
       " u'Plasmodium reichenowi',\n",
       " u'Neolamprologus brichardi',\n",
       " u'Oryzias latipes',\n",
       " u'Haplochromis burtoni',\n",
       " u'Photobacterium leiognathi',\n",
       " u'Takifugu rubripes',\n",
       " u'Salinivibrio socompensis',\n",
       " u'A Chain A, Solution Structure Of The Rpr Domain Of Putative Rna- Binding Protein 16',\n",
       " u'Photobacterium leiognathi',\n",
       " u'Larimichthys crocea',\n",
       " u'Astyanax mexicanus',\n",
       " u'Larimichthys crocea',\n",
       " u'Larimichthys crocea',\n",
       " u'Photobacterium leiognathi lrivu.4.1',\n",
       " u'Notothenia coriiceps',\n",
       " u'Larimichthys crocea',\n",
       " u'Fundulus heteroclitus',\n",
       " u'Photobacterium leiognathi',\n",
       " u'Stegastes partitus',\n",
       " u'Larimichthys crocea',\n",
       " u'Oreochromis niloticus',\n",
       " u'Gadus morhua',\n",
       " u'Oreochromis niloticus',\n",
       " u'Salmo salar',\n",
       " u'Photobacterium leiognathi',\n",
       " u'Vibrio campbellii']"
      ]
     },
     "execution_count": 48,
     "metadata": {},
     "output_type": "execute_result"
    }
   ],
   "source": [
    "#instead of gi or ACN, need species from hit title. \n",
    "#Create new list with the species from each hit. \n",
    "\n",
    "## Species\n",
    "SPlist=[]\n",
    "for i in range(0,len(giNUMlist)):\n",
    "    newSP= (giNUMlist[i].split(\"|\")[6])\n",
    "    SPlist.append(newSP)\n",
    "\n",
    "## Species Continued\n",
    "SPlist2=[]\n",
    "for i in range(0,len(giNUMlist)):\n",
    "    newSP= (SPlist[i].split(\"[\")[-1])\n",
    "    SPlist2.append(newSP)\n",
    "\n",
    "#Species list finished\n",
    " \n",
    "SPlist3=[]\n",
    "for i in range(0,len(giNUMlist)):\n",
    "    newSP= (SPlist2[i].split(\"]\")[0])\n",
    "    SPlist3.append(newSP)\n",
    "    \n",
    "SPlist3"
   ]
  },
  {
   "cell_type": "markdown",
   "metadata": {},
   "source": [
    "This worked for all entries except one, which did not provide a species in the hit title"
   ]
  },
  {
   "cell_type": "code",
   "execution_count": 53,
   "metadata": {
    "collapsed": false
   },
   "outputs": [
    {
     "data": {
      "text/plain": [
       "42"
      ]
     },
     "execution_count": 53,
     "metadata": {},
     "output_type": "execute_result"
    }
   ],
   "source": [
    "# create a dictionary with the key as the gene id and the value as the species name\n",
    "GeneSpeciesDict={}\n",
    "\n",
    "for i in range(0,len(newGENElist)):\n",
    "    newkey = newGENElist[i]\n",
    "    GeneSpeciesDict[newkey]=SPlist3[i]\n",
    "\n",
    "len(GeneSpeciesDict)"
   ]
  },
  {
   "cell_type": "code",
   "execution_count": 62,
   "metadata": {
    "collapsed": false
   },
   "outputs": [
    {
     "data": {
      "text/plain": [
       "41"
      ]
     },
     "execution_count": 62,
     "metadata": {},
     "output_type": "execute_result"
    }
   ],
   "source": [
    "#Get rid of geneIDs that do not have taxonomy available (no species name in title)\n",
    "# for now - doing this by removing entries whose title is too long (>50 characters)\n",
    "#to be a species name\n",
    "\n",
    "#function to look at slice of a dictionary\n",
    "import itertools\n",
    "def glance(d):\n",
    "    return dict(itertools.islice(d.iteritems(), 3))\n",
    "\n",
    "#keylist is list of 42 trinID that are keys from GeneSpeciesDict - remember this specis list \n",
    "# IS repetitive\n",
    "# if any of the species names are too long - delete entry\n",
    "keylist = GeneSpeciesDict.keys()\n",
    "for i in keylist:\n",
    "    if i in GeneSpeciesDict:\n",
    "        if len(GeneSpeciesDict[i])> 50:\n",
    "            del GeneSpeciesDict[i] \n",
    "            \n",
    "len(GeneSpeciesDict)\n",
    "#deleted the entry \"predicted protein\""
   ]
  },
  {
   "cell_type": "code",
   "execution_count": 63,
   "metadata": {
    "collapsed": false
   },
   "outputs": [
    {
     "data": {
      "text/plain": [
       "{u'TRINITY_DN106845_c0_g1_i1': u'Larimichthys crocea',\n",
       " u'TRINITY_DN15043_c0_g1_i1': u'Photobacterium leiognathi',\n",
       " u'TRINITY_DN97813_c0_g1_i2': u'Stegastes partitus'}"
      ]
     },
     "execution_count": 63,
     "metadata": {},
     "output_type": "execute_result"
    }
   ],
   "source": [
    "glance(GeneSpeciesDict)"
   ]
  },
  {
   "cell_type": "code",
   "execution_count": 54,
   "metadata": {
    "collapsed": false
   },
   "outputs": [],
   "source": [
    "# use SPlist3 to fetch TAXID from entrez\n",
    "#get a NONREPETITIVE dictionary with species name: tax id number\n",
    "\n",
    "from Bio import Entrez\n",
    "Entrez.email=\"margaret.marsbrisbin@oist.jp\"\n",
    "\n",
    "taxID = {}\n",
    "\n",
    "for i in SPlist3:\n",
    "    if i in taxID:\n",
    "        continue\n",
    "    handle = Entrez.esearch(db=\"taxonomy\", term= i)\n",
    "    record = Entrez.read(handle)\n",
    "    #if not record[\"IdList\"]:\n",
    "    #    pdb.set_trace()\n",
    "    if record[\"IdList\"]:\n",
    "        taxID[i] = record[\"IdList\"][0]\n",
    "#    taxIDlist.append(record[\"IdList\"])\n",
    "    \n",
    "    "
   ]
  },
  {
   "cell_type": "code",
   "execution_count": 57,
   "metadata": {
    "collapsed": false
   },
   "outputs": [
    {
     "data": {
      "text/plain": [
       "20"
      ]
     },
     "execution_count": 57,
     "metadata": {},
     "output_type": "execute_result"
    }
   ],
   "source": [
    "len(taxID)"
   ]
  },
  {
   "cell_type": "code",
   "execution_count": 64,
   "metadata": {
    "collapsed": false
   },
   "outputs": [
    {
     "data": {
      "text/plain": [
       "{u'Haplochromis burtoni': '8153',\n",
       " u'Neolamprologus brichardi': '32507',\n",
       " u'Salinivibrio socompensis': '1510206'}"
      ]
     },
     "execution_count": 64,
     "metadata": {},
     "output_type": "execute_result"
    }
   ],
   "source": [
    "glance(taxID)"
   ]
  },
  {
   "cell_type": "code",
   "execution_count": 13,
   "metadata": {
    "collapsed": false
   },
   "outputs": [],
   "source": [
    "# experimenting with efetch to get linneage information\n",
    "# provide tax ID and return linneage information\n",
    "#### DID NOT USE THIS FOR FINAL LISTS\n",
    "\n",
    "from Bio import Entrez\n",
    "Entrez.email=\"margaret.marsbrisbin@oist.jp\"\n",
    "\n",
    "def get_tax_data(taxid):\n",
    "    \"\"\"once we have the taxid, we can fetch the record\"\"\"\n",
    "    search = Entrez.efetch(id = taxid, db = \"taxonomy\", retmode = \"xml\")\n",
    "    return Entrez.read(search)\n",
    "\n",
    "data=get_tax_data('144197')\n",
    "#lineage = {d['Rank']:d['ScientificName'] for d in \n",
    "    #data[0]['LineageEx'] if d['Rank'] in ['family', 'order']}\n",
    "\n",
    "#data is a lot of text\n",
    "# this will be slower than ete because it queries NCBI each time"
   ]
  },
  {
   "cell_type": "code",
   "execution_count": 50,
   "metadata": {
    "collapsed": false
   },
   "outputs": [],
   "source": [
    "# an alternative method to get linneage information\n",
    "#ete2 module for python\n",
    "\n",
    "#first creates a local taxonomy database. When running in the future, it will check for this \n",
    "#database rather than creating it\n",
    "\n",
    "# FASTER than Entrez efetch\n",
    "\n",
    "from ete2 import NCBITaxa\n",
    "ncbi = NCBITaxa()"
   ]
  },
  {
   "cell_type": "code",
   "execution_count": 56,
   "metadata": {
    "collapsed": false
   },
   "outputs": [
    {
     "data": {
      "text/plain": [
       "20"
      ]
     },
     "execution_count": 56,
     "metadata": {},
     "output_type": "execute_result"
    }
   ],
   "source": [
    "##use ete to get linneage information for each taxID in dictionary ' taxID'\n",
    "\n",
    "lineageDict={}\n",
    "\n",
    "for i in taxID:\n",
    "    lineage = ncbi.get_lineage(taxID[i])\n",
    "    names = ncbi.get_taxid_translator(lineage)\n",
    "    key = taxID[i]\n",
    "    lineageDict[key]= [names[taxid] for taxid in lineage]\n",
    "\n",
    "len(lineageDict)"
   ]
  },
  {
   "cell_type": "markdown",
   "metadata": {},
   "source": [
    "# USE dictionaries .....not lists"
   ]
  },
  {
   "cell_type": "code",
   "execution_count": 16,
   "metadata": {
    "collapsed": false
   },
   "outputs": [
    {
     "data": {
      "text/plain": [
       "{'113540': 1,\n",
       " '1248232': 0,\n",
       " '144197': 1,\n",
       " '1510206': 0,\n",
       " '215358': 1,\n",
       " '31033': 1,\n",
       " '32507': 1,\n",
       " '48698': 1,\n",
       " '553611': 0,\n",
       " '5854': 0,\n",
       " '680': 0,\n",
       " '7994': 1,\n",
       " '8030': 1,\n",
       " '8049': 1,\n",
       " '8078': 1,\n",
       " '8083': 1,\n",
       " '8090': 1,\n",
       " '8128': 1,\n",
       " '8153': 1,\n",
       " '8208': 1}"
      ]
     },
     "execution_count": 16,
     "metadata": {},
     "output_type": "execute_result"
    }
   ],
   "source": [
    "# make a dictionary for Fish or Not Fish by tax id\n",
    "# 0 = Not Fish, 1 = Fish\n",
    "fishDict = {} \n",
    "\n",
    "keylist=lineageDict.keys()\n",
    "\n",
    "for i in keylist:\n",
    "    key = i\n",
    "    value = lineageDict[key]\n",
    "    if 'Teleostei' in value:\n",
    "        binary = 1\n",
    "    else:\n",
    "        binary = 0\n",
    "    fishDict[key]= binary\n",
    "  \n",
    "fishDict\n"
   ]
  },
  {
   "cell_type": "code",
   "execution_count": 65,
   "metadata": {
    "collapsed": false
   },
   "outputs": [
    {
     "data": {
      "text/plain": [
       "{'1510206': u'Salinivibrio socompensis',\n",
       " '7994': u'Astyanax mexicanus',\n",
       " '8078': u'Fundulus heteroclitus'}"
      ]
     },
     "execution_count": 65,
     "metadata": {},
     "output_type": "execute_result"
    }
   ],
   "source": [
    "#switch the order order of the dictionary - now taxID: species name\n",
    "switchTaxID = {y:x for x,y in taxID.iteritems()} \n",
    "\n",
    "glance(switchTaxID)"
   ]
  },
  {
   "cell_type": "code",
   "execution_count": 18,
   "metadata": {
    "collapsed": false
   },
   "outputs": [
    {
     "data": {
      "text/plain": [
       "{u'Neolamprologus brichardi': 1,\n",
       " u'Salinivibrio socompensis': 0,\n",
       " u'Salmo salar': 1}"
      ]
     },
     "execution_count": 18,
     "metadata": {},
     "output_type": "execute_result"
    }
   ],
   "source": [
    "# remember: fishDict is dictionary {taxID: (1 for fish or 0 for not fish)}\n",
    "# so have two dictionaries with key=tax ID \n",
    "# use these to combine the dictionaries to get 1 {species:(1or0)}\n",
    "\n",
    "keylist2 = fishDict.keys()\n",
    "#keylist 2 is now a NONREPETITIVE list of taxIDs\n",
    "fishDict2={}\n",
    "\n",
    "for i in keylist2:\n",
    "    key = switchTaxID[i]\n",
    "    value = fishDict[i]\n",
    "    fishDict2[key]=value\n",
    "\n",
    "glance(fishDict2)"
   ]
  },
  {
   "cell_type": "code",
   "execution_count": 66,
   "metadata": {
    "collapsed": false
   },
   "outputs": [
    {
     "data": {
      "text/plain": [
       "41"
      ]
     },
     "execution_count": 66,
     "metadata": {},
     "output_type": "execute_result"
    }
   ],
   "source": [
    "#FINALLY get dictionary with Trinity ID and 0 or 1 for FishNotFish\n",
    "#GeneSpeciesDict keys are trinity ID's (only 41...)\n",
    "keylist3=GeneSpeciesDict.keys()\n",
    "lastDict={}\n",
    "for i in keylist3:\n",
    "    newval= fishDict2[(GeneSpeciesDict[i])]\n",
    "    lastDict[i]= newval\n",
    "\n",
    "len(lastDict)"
   ]
  },
  {
   "cell_type": "markdown",
   "metadata": {},
   "source": [
    "## I screwed this up somehow in commenting and moving cells around to be in order - now only makes csv of 41 genes, not all of them....."
   ]
  },
  {
   "cell_type": "markdown",
   "metadata": {},
   "source": [
    "GeneSpeciesDict\n",
    "{u'TRINITY_DN106845_c0_g1_i1': u'Larimichthys crocea',\n",
    " u'TRINITY_DN115540_c0_g1_i1': u'Vibrio campbellii',\n",
    "    \n",
    "taxID\n",
    " u'Fundulus heteroclitus': '8078',\n",
    " u'Gadus morhua': '8049',\n",
    " u'Haplochromis burtoni': '8153',\n",
    " u'Larimichthys crocea': '215358',\n",
    " \n",
    "fishDict\n",
    "{'113540': 1,\n",
    "'1248232': 0,\n",
    "'144197': 1,\n",
    "\n",
    "switchTaxID\n",
    "{'1510206': u'Salinivibrio socompensis',\n",
    " '7994': u'Astyanax mexicanus',\n",
    " '8078': u'Fundulus heteroclitus'}"
   ]
  },
  {
   "cell_type": "code",
   "execution_count": 34,
   "metadata": {
    "collapsed": false
   },
   "outputs": [
    {
     "data": {
      "text/plain": [
       "20"
      ]
     },
     "execution_count": 34,
     "metadata": {},
     "output_type": "execute_result"
    }
   ],
   "source": [
    "len(fishDict)"
   ]
  },
  {
   "cell_type": "code",
   "execution_count": 67,
   "metadata": {
    "collapsed": true
   },
   "outputs": [],
   "source": [
    "with open('FishNotFish1.csv', 'w') as f:\n",
    "    [f.write('{0},{1}\\n'.format(key, value)) for key, value in lastDict.items()]"
   ]
  },
  {
   "cell_type": "code",
   "execution_count": 31,
   "metadata": {
    "collapsed": false
   },
   "outputs": [
    {
     "data": {
      "text/plain": [
       "{'113540': 1,\n",
       " '1248232': 0,\n",
       " '144197': 1,\n",
       " '1510206': 0,\n",
       " '215358': 1,\n",
       " '31033': 1,\n",
       " '32507': 1,\n",
       " '48698': 1,\n",
       " '553611': 0,\n",
       " '5854': 1,\n",
       " '680': 0,\n",
       " '7994': 1,\n",
       " '8030': 1,\n",
       " '8049': 1,\n",
       " '8078': 1,\n",
       " '8083': 1,\n",
       " '8090': 1,\n",
       " '8128': 1,\n",
       " '8153': 1,\n",
       " '8208': 1}"
      ]
     },
     "execution_count": 31,
     "metadata": {},
     "output_type": "execute_result"
    }
   ],
   "source": [
    "# make a dictionary for Bacteria or Eukaryote by tax id\n",
    "# 0 = Bacteria, 1 = Eukaryote\n",
    "fishDict = {} \n",
    "bactDict={}\n",
    "keylist=lineageDict.keys()\n",
    "\n",
    "for i in keylist:\n",
    "    key = i\n",
    "    value = lineageDict[key]\n",
    "    if 'Bacteria' in value:\n",
    "        binary = 0\n",
    "    else:\n",
    "        binary = 1\n",
    "    bactDict[key]= binary\n",
    "  \n",
    "bactDict\n"
   ]
  },
  {
   "cell_type": "code",
   "execution_count": null,
   "metadata": {
    "collapsed": true
   },
   "outputs": [],
   "source": []
  }
 ],
 "metadata": {
  "kernelspec": {
   "display_name": "Python 2",
   "language": "python",
   "name": "python2"
  },
  "language_info": {
   "codemirror_mode": {
    "name": "ipython",
    "version": 2
   },
   "file_extension": ".py",
   "mimetype": "text/x-python",
   "name": "python",
   "nbconvert_exporter": "python",
   "pygments_lexer": "ipython2",
   "version": "2.7.10"
  }
 },
 "nbformat": 4,
 "nbformat_minor": 0
}
