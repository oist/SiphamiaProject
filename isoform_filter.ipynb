{
 "cells": [
  {
   "cell_type": "code",
   "execution_count": 1,
   "metadata": {
    "collapsed": true
   },
   "outputs": [],
   "source": [
    "# From biopython, import the module \"SeqIO\"\n",
    "from Bio import SeqIO"
   ]
  },
  {
   "cell_type": "code",
   "execution_count": 2,
   "metadata": {
    "collapsed": true
   },
   "outputs": [],
   "source": [
    "# import data fasta file, and convert it to a dictionary\n",
    "test = SeqIO.to_dict(SeqIO.parse(\"/Users/brisbin/desktop/Trinity.fasta\",\"fasta\"))"
   ]
  },
  {
   "cell_type": "code",
   "execution_count": 3,
   "metadata": {
    "collapsed": false
   },
   "outputs": [
    {
     "data": {
      "text/plain": [
       "{'TRINITY_DN100766_c0_g1_i1': SeqRecord(seq=Seq('GGTTGCCTGTCACAAAAACAAATTTAAAAAATAAAATAAAAAGTAAATTAAAAA...CCT', SingleLetterAlphabet()), id='TRINITY_DN100766_c0_g1_i1', name='TRINITY_DN100766_c0_g1_i1', description='TRINITY_DN100766_c0_g1_i1 len=889 path=[10315:0-90 10316:91-122 11042:123-146 11255:147-162 11198:163-177 11320:178-224 11291:225-261 11193:262-317 11319:318-323 11289:324-347 11250:348-406 11113:407-439 11287:440-510 11186:511-534 11247:535-620 11388:621-621 10357:622-645 10358:646-669 11107:670-688 11011:689-690 11391:691-745 11182:746-777 10876:778-801 11104:802-818 11316:819-864 11283:865-888] [-1, 10315, 10316, 11042, 11255, 11198, 11320, 11291, 11193, 11319, 11289, 11250, 11113, 11287, 11186, 11247, 11388, 10357, 10358, 11107, 11011, 11391, 11182, 10876, 11104, 11316, 11283]', dbxrefs=[]),\n",
       " 'TRINITY_DN100766_c0_g1_i4': SeqRecord(seq=Seq('GGTTGCCTGTCACAAAAACAAATTTAAAAAATAAAATAAAAAGTAAATTAAAAA...ACC', SingleLetterAlphabet()), id='TRINITY_DN100766_c0_g1_i4', name='TRINITY_DN100766_c0_g1_i4', description='TRINITY_DN100766_c0_g1_i4 len=835 path=[10869:0-90 10870:91-137 10871:138-146 10872:147-162 11126:163-186 11321:187-224 11291:225-261 11193:262-317 11319:318-323 11289:324-347 11250:348-406 11113:407-439 11287:440-510 11186:511-534 11247:535-620 10744:621-652 11245:653-690 11013:691-745 10924:746-777 10925:778-788 10926:789-834] [-1, 10869, 10870, 10871, 10872, 11126, 11321, 11291, 11193, 11319, 11289, 11250, 11113, 11287, 11186, 11247, 10744, 11245, 11013, 10924, 10925, 10926, -2]', dbxrefs=[]),\n",
       " 'TRINITY_DN21421_c0_g1_i1': SeqRecord(seq=Seq('ACTTACTTAAATTGTCATATTTGTATGAAATGTGATTTTGATCCGTTCATATTT...GGA', SingleLetterAlphabet()), id='TRINITY_DN21421_c0_g1_i1', name='TRINITY_DN21421_c0_g1_i1', description='TRINITY_DN21421_c0_g1_i1 len=319 path=[639:0-141 640:142-168 641:169-318] [-1, 639, 640, 641, -2]', dbxrefs=[])}"
      ]
     },
     "execution_count": 3,
     "metadata": {},
     "output_type": "execute_result"
    }
   ],
   "source": [
    "#take a look at the dictionary that you made, without printing all 300,000 entries\n",
    "# change the number in \"return dict(itertools.islice(d.iteritems(), 3))\" to change the number\n",
    "# of entries you see\n",
    "\n",
    "import itertools\n",
    "\n",
    "def glance(d):\n",
    "    return dict(itertools.islice(d.iteritems(), 3))\n",
    "\n",
    "glance(test)"
   ]
  },
  {
   "cell_type": "code",
   "execution_count": 4,
   "metadata": {
    "collapsed": false
   },
   "outputs": [
    {
     "data": {
      "text/plain": [
       "369709"
      ]
     },
     "execution_count": 4,
     "metadata": {},
     "output_type": "execute_result"
    }
   ],
   "source": [
    "# create a list of the keys from the dictionary\n",
    "# check the length of the list \n",
    "keylist=test.keys()\n",
    "len(keylist)"
   ]
  },
  {
   "cell_type": "code",
   "execution_count": 10,
   "metadata": {
    "collapsed": false
   },
   "outputs": [],
   "source": [
    "# Create a new dictionary that has the gene id as the key and a list with \n",
    "# the isoform name and length as the value\n",
    "# In this Trinity.fasta file, the gene id is, TRINITY_DN21421_c0_g1, for example.\n",
    "# the loops gets the gene id by separating the sequence id (TRINITY_DN21421_c0_g1_i1)\n",
    "# by the underscores and then removes the last item\n",
    "# the if statements make sure that the isoform that gets added to the new dictionary is the\n",
    "# longest isoform\n",
    "\n",
    "lendict = {}\n",
    "\n",
    "for i in range(0,len(keylist)):\n",
    "    newkey= \"_\".join(keylist[i].split(\"_\")[0:-2])\n",
    "    lendict[newkey] = [keylist[i], len(test[keylist[i]])]\n",
    "        "
   ]
  },
  {
   "cell_type": "code",
   "execution_count": 11,
   "metadata": {
    "collapsed": true
   },
   "outputs": [],
   "source": [
    "# check out the first 15 items in the new dictionary\n",
    "\n",
    "def glance15(d):\n",
    "    return dict(itertools.islice(d.iteritems(), 15))"
   ]
  },
  {
   "cell_type": "code",
   "execution_count": 12,
   "metadata": {
    "collapsed": false
   },
   "outputs": [
    {
     "data": {
      "text/plain": [
       "{'TRINITY_DN14318_c0_g1': ['TRINITY_DN14318_c0_g1_i1', 640],\n",
       " 'TRINITY_DN15562_c0_g1': ['TRINITY_DN15562_c0_g1_i1', 213],\n",
       " 'TRINITY_DN18969_c0_g1': ['TRINITY_DN18969_c0_g1_i1', 363],\n",
       " 'TRINITY_DN196331_c0_g1': ['TRINITY_DN196331_c0_g1_i1', 308],\n",
       " 'TRINITY_DN197234_c0_g1': ['TRINITY_DN197234_c0_g1_i1', 333],\n",
       " 'TRINITY_DN239031_c0_g1': ['TRINITY_DN239031_c0_g1_i1', 407],\n",
       " 'TRINITY_DN42844_c0_g1': ['TRINITY_DN42844_c0_g1_i1', 256],\n",
       " 'TRINITY_DN4621_c0_g1': ['TRINITY_DN4621_c0_g1_i1', 203],\n",
       " 'TRINITY_DN4621_c0_g2': ['TRINITY_DN4621_c0_g2_i1', 209],\n",
       " 'TRINITY_DN52204_c0_g1': ['TRINITY_DN52204_c0_g1_i1', 239],\n",
       " 'TRINITY_DN64601_c0_g1': ['TRINITY_DN64601_c0_g1_i1', 685],\n",
       " 'TRINITY_DN72513_c0_g1': ['TRINITY_DN72513_c0_g1_i1', 572],\n",
       " 'TRINITY_DN74577_c0_g1': ['TRINITY_DN74577_c0_g1_i1', 246],\n",
       " 'TRINITY_DN77666_c0_g1': ['TRINITY_DN77666_c0_g1_i1', 203],\n",
       " 'TRINITY_DN81819_c1_g1': ['TRINITY_DN81819_c1_g1_i1', 346]}"
      ]
     },
     "execution_count": 12,
     "metadata": {},
     "output_type": "execute_result"
    }
   ],
   "source": [
    "glance15(lendict)"
   ]
  },
  {
   "cell_type": "code",
   "execution_count": 14,
   "metadata": {
    "collapsed": false
   },
   "outputs": [
    {
     "data": {
      "text/plain": [
       "333577"
      ]
     },
     "execution_count": 14,
     "metadata": {},
     "output_type": "execute_result"
    }
   ],
   "source": [
    "# Make a list of the keys in the new dictionary\n",
    "# check the length of the list - it should be shorter than the original dictionary and key list\n",
    "newkeylist=lendict.keys()\n",
    "len(newkeylist)"
   ]
  },
  {
   "cell_type": "code",
   "execution_count": 15,
   "metadata": {
    "collapsed": false
   },
   "outputs": [
    {
     "data": {
      "text/plain": [
       "['TRINITY_DN4621_c0_g2_i1',\n",
       " 'TRINITY_DN4621_c0_g1_i1',\n",
       " 'TRINITY_DN239031_c0_g1_i1',\n",
       " 'TRINITY_DN72513_c0_g1_i1',\n",
       " 'TRINITY_DN42844_c0_g1_i1',\n",
       " 'TRINITY_DN14318_c0_g1_i1',\n",
       " 'TRINITY_DN15562_c0_g1_i1',\n",
       " 'TRINITY_DN18969_c0_g1_i1',\n",
       " 'TRINITY_DN196331_c0_g1_i1']"
      ]
     },
     "execution_count": 15,
     "metadata": {},
     "output_type": "execute_result"
    }
   ],
   "source": [
    "# make a list of the first item in the value list associated with each key\n",
    "#in the lendict dictionary\n",
    "# The items in the lendict dictionary look like this:\n",
    "#'TRINITY_DN81819_c1_g1': ['TRINITY_DN81819_c1_g1_i1', 346]\n",
    "# The list will hold: TRINITY_DN81819_c1_g1_i1 \n",
    "\n",
    "dictlist=[]\n",
    "for i in range(0,len(newkeylist)):\n",
    "    dictlist.append((lendict[(newkeylist[i])])[0])\n",
    "\n",
    "#Check to see that the list is the appropriate list    \n",
    "len(dictlist)\n",
    "#and looks as expected \n",
    "dictlist[1:10]"
   ]
  },
  {
   "cell_type": "code",
   "execution_count": 16,
   "metadata": {
    "collapsed": false
   },
   "outputs": [
    {
     "data": {
      "text/plain": [
       "333577"
      ]
     },
     "execution_count": 16,
     "metadata": {},
     "output_type": "execute_result"
    }
   ],
   "source": [
    "# filter the original dictionary (test) to remove entries that do not occur in \"dictlist\"\n",
    "# ie that are not the longest isoform \n",
    "\n",
    "old_dict = test\n",
    "wanted_keys = dictlist\n",
    "filtered = {k: old_dict[k] for k in set(wanted_keys) & set(old_dict.keys())}\n",
    "\n",
    "#check the length of the new dictionary \"filtered\" to be sure it is the right length\n",
    "len(filtered)"
   ]
  },
  {
   "cell_type": "code",
   "execution_count": 21,
   "metadata": {
    "collapsed": false
   },
   "outputs": [
    {
     "data": {
      "text/plain": [
       "{'TRINITY_DN111922_c0_g1_i1': SeqRecord(seq=Seq('AGGGGGGCTTTCAGACCAAAGGGAAAAGCACTTAATTCCTTGGTGGAGGGAGGG...GGG', SingleLetterAlphabet()), id='TRINITY_DN111922_c0_g1_i1', name='TRINITY_DN111922_c0_g1_i1', description='TRINITY_DN111922_c0_g1_i1 len=303 path=[561:0-302] [-1, 561, -2]', dbxrefs=[]),\n",
       " 'TRINITY_DN259335_c0_g1_i1': SeqRecord(seq=Seq('AAACGACCAAAAACAAAATCATCATTTCCTGGGGTTGGGAGAGAACTATGCTCT...GGG', SingleLetterAlphabet()), id='TRINITY_DN259335_c0_g1_i1', name='TRINITY_DN259335_c0_g1_i1', description='TRINITY_DN259335_c0_g1_i1 len=279 path=[513:0-278] [-1, 513, -2]', dbxrefs=[]),\n",
       " 'TRINITY_DN89316_c0_g3_i1': SeqRecord(seq=Seq('CAGTACAAACAGTTTTCGCATCTGCTGGGTTTTCTAATAAGAACTCAGCAAGCT...TGG', SingleLetterAlphabet()), id='TRINITY_DN89316_c0_g3_i1', name='TRINITY_DN89316_c0_g3_i1', description='TRINITY_DN89316_c0_g3_i1 len=234 path=[741:0-143 742:144-144 775:145-164 774:165-165 773:166-171 769:172-186 737:187-189 738:190-210 739:211-222 740:223-233] [-1, 741, 742, 775, 774, 773, 769, 737, 738, 739, 740, -2]', dbxrefs=[])}"
      ]
     },
     "execution_count": 21,
     "metadata": {},
     "output_type": "execute_result"
    }
   ],
   "source": [
    "#and take a look at the first 3 entries\n",
    "glance(filtered)"
   ]
  },
  {
   "cell_type": "code",
   "execution_count": 23,
   "metadata": {
    "collapsed": false
   },
   "outputs": [
    {
     "data": {
      "text/plain": [
       "333577"
      ]
     },
     "execution_count": 23,
     "metadata": {},
     "output_type": "execute_result"
    }
   ],
   "source": [
    "# make list of values from \"filtered\" dictionary\n",
    "# need to have a list of \"Seq Records\" in order for SEqIO to write to file\n",
    "\n",
    "filteredlist= list(filtered.values())\n",
    "\n",
    "#one more check that things look right\n",
    "len(filteredlist)"
   ]
  },
  {
   "cell_type": "code",
   "execution_count": 24,
   "metadata": {
    "collapsed": false
   },
   "outputs": [
    {
     "data": {
      "text/plain": [
       "333577"
      ]
     },
     "execution_count": 24,
     "metadata": {},
     "output_type": "execute_result"
    }
   ],
   "source": [
    "# now write filtered list to fasta\n",
    "\n",
    "SeqIO.write(filteredlist, \"/Users/brisbin/desktop/filtered_Trinity.fasta\", \"fasta\")\n"
   ]
  },
  {
   "cell_type": "code",
   "execution_count": null,
   "metadata": {
    "collapsed": true
   },
   "outputs": [],
   "source": [
    "#and DONE!"
   ]
  }
 ],
 "metadata": {
  "kernelspec": {
   "display_name": "Python 2",
   "language": "python",
   "name": "python2"
  },
  "language_info": {
   "codemirror_mode": {
    "name": "ipython",
    "version": 2
   },
   "file_extension": ".py",
   "mimetype": "text/x-python",
   "name": "python",
   "nbconvert_exporter": "python",
   "pygments_lexer": "ipython2",
   "version": "2.7.10"
  }
 },
 "nbformat": 4,
 "nbformat_minor": 0
}
