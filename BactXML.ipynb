{
 "cells": [
  {
   "cell_type": "code",
   "execution_count": 2,
   "metadata": {
    "collapsed": false
   },
   "outputs": [],
   "source": [
    "import pdb\n",
    "from Bio import SeqIO\n",
    "a = open('annotation.xml', 'r')\n",
    "GOs = {}\n",
    "for record in SeqIO.parse(a, 'uniprot-xml'):\n",
    "    #initialize empty variables for troubleshooting\n",
    "    geneID = \"\"\n",
    "    GO = \"\"\n",
    "    for ft in record.dbxrefs:\n",
    "        ft = ft.split(\":\")\n",
    "        if ft[0] == \"GO\":\n",
    "            GO = \":\".join(ft[1:])\n",
    "        elif ft[0] == \"GeneID\":\n",
    "            geneID = ft[1]\n",
    "    if not geneID or not GO:\n",
    "        continue\n",
    "    if geneID in GOs:\n",
    "        if GO not in GOs[geneID]:\n",
    "            GOs[geneID].append(GO)\n",
    "    else:\n",
    "        GOs[geneID] = [GO]  "
   ]
  },
  {
   "cell_type": "code",
   "execution_count": 3,
   "metadata": {
    "collapsed": false,
    "scrolled": true
   },
   "outputs": [
    {
     "data": {
      "text/plain": [
       "2543"
      ]
     },
     "execution_count": 3,
     "metadata": {},
     "output_type": "execute_result"
    }
   ],
   "source": [
    "len(GOs)"
   ]
  },
  {
   "cell_type": "code",
   "execution_count": 4,
   "metadata": {
    "collapsed": false
   },
   "outputs": [
    {
     "data": {
      "text/plain": [
       "['EMBL:DF093594',\n",
       " 'EnsemblBacteria:GAA03197',\n",
       " 'GO:GO:0000287',\n",
       " 'GO:GO:0016020',\n",
       " 'GO:GO:0046854',\n",
       " 'GeneID:23784341',\n",
       " 'InterPro:IPR000760',\n",
       " 'InterPro:IPR006240',\n",
       " 'InterPro:IPR020550',\n",
       " 'InterPro:IPR020583',\n",
       " 'NCBI Taxonomy:1001530',\n",
       " 'PANTHER:PTHR20854',\n",
       " 'PRINTS:PR00377',\n",
       " 'PROSITE:PS00629',\n",
       " 'PROSITE:PS00630',\n",
       " 'Pfam:PF00459',\n",
       " 'ProteinModelPortal:F2P5H6',\n",
       " 'RefSeq:WP_008986131.1',\n",
       " 'STRING:1001530.PMSV_3926',\n",
       " 'TIGRFAMs:TIGR01331',\n",
       " 'TrEMBL:F2P5H6',\n",
       " 'TrEMBL:F2P5H6_PHOMO']"
      ]
     },
     "execution_count": 4,
     "metadata": {},
     "output_type": "execute_result"
    }
   ],
   "source": [
    "record.dbxrefs\n"
   ]
  },
  {
   "cell_type": "code",
   "execution_count": 5,
   "metadata": {
    "collapsed": false
   },
   "outputs": [
    {
     "data": {
      "text/plain": [
       "{'23786381': ['GO:0015937'],\n",
       " '23786388': ['GO:0051539'],\n",
       " '23786389': ['GO:0016021']}"
      ]
     },
     "execution_count": 5,
     "metadata": {},
     "output_type": "execute_result"
    }
   ],
   "source": [
    "import itertools\n",
    "\n",
    "def glance(d):\n",
    "    return dict(itertools.islice(d.iteritems(), 3))\n",
    "\n",
    "glance(GOs)"
   ]
  },
  {
   "cell_type": "code",
   "execution_count": 6,
   "metadata": {
    "collapsed": true
   },
   "outputs": [],
   "source": [
    "genenums = [line.strip() for line in open(\"/Users/brisbin/desktop/genenums.txt\", 'r')]\n",
    "geneids = [line.strip() for line in open(\"/Users/brisbin/desktop/geneids.txt\", 'r')]\n",
    "\n",
    "geneidrefDict ={}\n",
    "\n",
    "for i in range(0,len(genenums)):\n",
    "    key = geneids[i]\n",
    "    geneidrefDict[key]= genenums[i]"
   ]
  },
  {
   "cell_type": "code",
   "execution_count": 7,
   "metadata": {
    "collapsed": false
   },
   "outputs": [
    {
     "data": {
      "text/plain": [
       "{'23786381': 'gene1895', '23786388': 'gene2029', '23786389': 'gene1832'}"
      ]
     },
     "execution_count": 7,
     "metadata": {},
     "output_type": "execute_result"
    }
   ],
   "source": [
    "glance(geneidrefDict)"
   ]
  },
  {
   "cell_type": "code",
   "execution_count": 8,
   "metadata": {
    "collapsed": false
   },
   "outputs": [
    {
     "ename": "KeyError",
     "evalue": "'3279735'",
     "output_type": "error",
     "traceback": [
      "\u001b[0;31m---------------------------------------------------------------------------\u001b[0m",
      "\u001b[0;31mKeyError\u001b[0m                                  Traceback (most recent call last)",
      "\u001b[0;32m<ipython-input-8-a18c3e941376>\u001b[0m in \u001b[0;36m<module>\u001b[0;34m()\u001b[0m\n\u001b[1;32m      3\u001b[0m \u001b[0;34m\u001b[0m\u001b[0m\n\u001b[1;32m      4\u001b[0m \u001b[0;32mfor\u001b[0m \u001b[0mi\u001b[0m \u001b[0;32min\u001b[0m \u001b[0mkeylist\u001b[0m\u001b[0;34m:\u001b[0m\u001b[0;34m\u001b[0m\u001b[0m\n\u001b[0;32m----> 5\u001b[0;31m     \u001b[0mgeneidrefDict\u001b[0m\u001b[0;34m[\u001b[0m\u001b[0mi\u001b[0m\u001b[0;34m]\u001b[0m\u001b[0;34m\u001b[0m\u001b[0m\n\u001b[0m\u001b[1;32m      6\u001b[0m   \u001b[0;31m#  finalgeneDict[key]=value\u001b[0m\u001b[0;34m\u001b[0m\u001b[0;34m\u001b[0m\u001b[0m\n\u001b[1;32m      7\u001b[0m \u001b[0;34m\u001b[0m\u001b[0m\n",
      "\u001b[0;31mKeyError\u001b[0m: '3279735'"
     ]
    }
   ],
   "source": [
    "keylist = GOs.keys() \n",
    "finalgeneDict={}\n",
    "\n",
    "for i in keylist:\n",
    "    geneidrefDict[i]\n",
    "  #  finalgeneDict[key]=value\n",
    "    \n"
   ]
  },
  {
   "cell_type": "code",
   "execution_count": 9,
   "metadata": {
    "collapsed": false
   },
   "outputs": [
    {
     "data": {
      "text/plain": [
       "2543"
      ]
     },
     "execution_count": 9,
     "metadata": {},
     "output_type": "execute_result"
    }
   ],
   "source": [
    "len(keylist)"
   ]
  },
  {
   "cell_type": "code",
   "execution_count": 10,
   "metadata": {
    "collapsed": false
   },
   "outputs": [
    {
     "data": {
      "text/plain": [
       "['GO:0045263']"
      ]
     },
     "execution_count": 10,
     "metadata": {},
     "output_type": "execute_result"
    }
   ],
   "source": [
    "GOs['3279735']"
   ]
  },
  {
   "cell_type": "code",
   "execution_count": 11,
   "metadata": {
    "collapsed": false
   },
   "outputs": [
    {
     "name": "stdout",
     "output_type": "stream",
     "text": [
      "no\n"
     ]
    }
   ],
   "source": [
    "if '3279735' in geneids:\n",
    "    print 'yes'\n",
    "else:\n",
    "    print 'no'"
   ]
  },
  {
   "cell_type": "code",
   "execution_count": 12,
   "metadata": {
    "collapsed": true
   },
   "outputs": [],
   "source": [
    "del GOs['3279735']"
   ]
  },
  {
   "cell_type": "code",
   "execution_count": 13,
   "metadata": {
    "collapsed": false
   },
   "outputs": [],
   "source": [
    "keylist = GOs.keys() \n",
    "finalgeneDict={}\n",
    "\n",
    "for i in keylist:\n",
    "    value = geneidrefDict[i]\n",
    "    finalgeneDict[value]= GOs[i]\n",
    "    "
   ]
  },
  {
   "cell_type": "code",
   "execution_count": 14,
   "metadata": {
    "collapsed": false
   },
   "outputs": [
    {
     "data": {
      "text/plain": [
       "{'gene3604': ['GO:0008170'],\n",
       " 'gene3605': ['GO:0006629'],\n",
       " 'gene3606': ['GO:0006457']}"
      ]
     },
     "execution_count": 14,
     "metadata": {},
     "output_type": "execute_result"
    }
   ],
   "source": [
    "glance(finalgeneDict) "
   ]
  },
  {
   "cell_type": "code",
   "execution_count": 15,
   "metadata": {
    "collapsed": false
   },
   "outputs": [
    {
     "data": {
      "text/plain": [
       "2542"
      ]
     },
     "execution_count": 15,
     "metadata": {},
     "output_type": "execute_result"
    }
   ],
   "source": [
    "len(finalgeneDict)"
   ]
  },
  {
   "cell_type": "code",
   "execution_count": 104,
   "metadata": {
    "collapsed": true
   },
   "outputs": [],
   "source": [
    "with open('geneGOref.csv', 'w') as f:\n",
    "    [f.write('{0},{1}\\n'.format(key, value)) for key, value in finalgeneDict.items()]"
   ]
  },
  {
   "cell_type": "code",
   "execution_count": null,
   "metadata": {
    "collapsed": true
   },
   "outputs": [],
   "source": []
  }
 ],
 "metadata": {
  "kernelspec": {
   "display_name": "Python 2",
   "language": "python",
   "name": "python2"
  },
  "language_info": {
   "codemirror_mode": {
    "name": "ipython",
    "version": 2
   },
   "file_extension": ".py",
   "mimetype": "text/x-python",
   "name": "python",
   "nbconvert_exporter": "python",
   "pygments_lexer": "ipython2",
   "version": "2.7.10"
  }
 },
 "nbformat": 4,
 "nbformat_minor": 0
}
