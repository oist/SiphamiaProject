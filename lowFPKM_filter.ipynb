{
 "cells": [
  {
   "cell_type": "code",
   "execution_count": 2,
   "metadata": {
    "collapsed": true
   },
   "outputs": [],
   "source": [
    "#module to import .csv files\n",
    "import csv"
   ]
  },
  {
   "cell_type": "code",
   "execution_count": 3,
   "metadata": {
    "collapsed": false
   },
   "outputs": [
    {
     "data": {
      "text/plain": [
       "120027"
      ]
     },
     "execution_count": 3,
     "metadata": {},
     "output_type": "execute_result"
    }
   ],
   "source": [
    "# read in genelist.csv as a list\n",
    "genelist= []\n",
    "with open('/Users/brisbin/desktop/Siphamia/siph.genes.results/filtered_1FPKM_genelist.csv', 'rU') as g:\n",
    "    reader = csv.reader(g)\n",
    "    for row in reader:\n",
    "        genelist.append(row[0])\n",
    "        \n",
    "len(genelist)"
   ]
  },
  {
   "cell_type": "code",
   "execution_count": 4,
   "metadata": {
    "collapsed": false
   },
   "outputs": [
    {
     "name": "stdout",
     "output_type": "stream",
     "text": [
      "['TRINITY_DN1', 'TRINITY_DN100000', 'TRINITY_DN100001', 'TRINITY_DN100002']\n"
     ]
    }
   ],
   "source": [
    "print (genelist[1:5])"
   ]
  },
  {
   "cell_type": "code",
   "execution_count": 5,
   "metadata": {
    "collapsed": false
   },
   "outputs": [],
   "source": [
    "# I think the header is in there somewhere\n",
    "genelist.remove('gene_id')\n"
   ]
  },
  {
   "cell_type": "code",
   "execution_count": 42,
   "metadata": {
    "collapsed": true
   },
   "outputs": [],
   "source": [
    "# From biopython, import the module \"SeqIO\"\n",
    "from Bio import SeqIO"
   ]
  },
  {
   "cell_type": "code",
   "execution_count": 43,
   "metadata": {
    "collapsed": true
   },
   "outputs": [],
   "source": [
    "# import data fasta file, and convert it to a dictionary\n",
    "fastadict = SeqIO.to_dict(SeqIO.parse(\"/Users/brisbin/desktop/filtered_Trinity.fasta\",\"fasta\"))"
   ]
  },
  {
   "cell_type": "code",
   "execution_count": 44,
   "metadata": {
    "collapsed": false
   },
   "outputs": [
    {
     "data": {
      "text/plain": [
       "{'TRINITY_DN111922_c0_g1_i1': SeqRecord(seq=Seq('AGGGGGGCTTTCAGACCAAAGGGAAAAGCACTTAATTCCTTGGTGGAGGGAGGG...GGG', SingleLetterAlphabet()), id='TRINITY_DN111922_c0_g1_i1', name='TRINITY_DN111922_c0_g1_i1', description='TRINITY_DN111922_c0_g1_i1 len=303 path=[561:0-302] [-1, 561, -2]', dbxrefs=[]),\n",
       " 'TRINITY_DN129952_c0_g1_i1': SeqRecord(seq=Seq('GGCGGGTTATTATAAAACAGAGACTAACTAGAGAACTCTGAGAGCGCAGACCTT...TTT', SingleLetterAlphabet()), id='TRINITY_DN129952_c0_g1_i1', name='TRINITY_DN129952_c0_g1_i1', description='TRINITY_DN129952_c0_g1_i1 len=254 path=[463:0-253] [-1, 463, -2]', dbxrefs=[]),\n",
       " 'TRINITY_DN89316_c0_g3_i1': SeqRecord(seq=Seq('CAGTACAAACAGTTTTCGCATCTGCTGGGTTTTCTAATAAGAACTCAGCAAGCT...TGG', SingleLetterAlphabet()), id='TRINITY_DN89316_c0_g3_i1', name='TRINITY_DN89316_c0_g3_i1', description='TRINITY_DN89316_c0_g3_i1 len=234 path=[741:0-143 742:144-144 775:145-164 774:165-165 773:166-171 769:172-186 737:187-189 738:190-210 739:211-222 740:223-233] [-1, 741, 742, 775, 774, 773, 769, 737, 738, 739, 740, -2]', dbxrefs=[])}"
      ]
     },
     "execution_count": 44,
     "metadata": {},
     "output_type": "execute_result"
    }
   ],
   "source": [
    "#take a look at the dictionary, without printing all 100,000 entries\n",
    "import itertools\n",
    "\n",
    "def glance(d):\n",
    "    return dict(itertools.islice(d.iteritems(), 3))\n",
    "\n",
    "glance(fastadict)"
   ]
  },
  {
   "cell_type": "code",
   "execution_count": 45,
   "metadata": {
    "collapsed": false
   },
   "outputs": [
    {
     "data": {
      "text/plain": [
       "333577"
      ]
     },
     "execution_count": 45,
     "metadata": {},
     "output_type": "execute_result"
    }
   ],
   "source": [
    "# create a list of the keys from the dictionary\n",
    "# check the length of the list \n",
    "keylist=fastadict.keys()\n",
    "len(keylist)"
   ]
  },
  {
   "cell_type": "code",
   "execution_count": 56,
   "metadata": {
    "collapsed": false
   },
   "outputs": [],
   "source": [
    "#create empty dictionary\n",
    "#fill it with the orinial entries in \"test\" dictionary as the value with the key as the \n",
    "#gene id in the same form as is in the list imported from R\n",
    "newdict = {}\n",
    "\n",
    "for i in range(0,len(keylist)):\n",
    "    newkey= \"_\".join(keylist[i].split(\"_\")[0:-3])\n",
    "    newdict[newkey] = fastadict[keylist[i]]\n",
    "        "
   ]
  },
  {
   "cell_type": "code",
   "execution_count": 57,
   "metadata": {
    "collapsed": false
   },
   "outputs": [
    {
     "data": {
      "text/plain": [
       "{'TRINITY_DN13035': SeqRecord(seq=Seq('TTAACACTTTCCTATTAATAAAACTGTTCAACAAATGCAAGTAAGCTTTGAAGT...GGG', SingleLetterAlphabet()), id='TRINITY_DN13035_c0_g1_i1', name='TRINITY_DN13035_c0_g1_i1', description='TRINITY_DN13035_c0_g1_i1 len=250 path=[228:0-249] [-1, 228, -2]', dbxrefs=[]),\n",
       " 'TRINITY_DN13036': SeqRecord(seq=Seq('GTGGTGTTTGTCTATATTATGGTATATTTTTTAATTAAACTGGTATTCGTTTTT...AAC', SingleLetterAlphabet()), id='TRINITY_DN13036_c0_g1_i1', name='TRINITY_DN13036_c0_g1_i1', description='TRINITY_DN13036_c0_g1_i1 len=354 path=[688:0-93 689:94-117 690:118-353] [-1, 688, 689, 690, -2]', dbxrefs=[]),\n",
       " 'TRINITY_DN13037': SeqRecord(seq=Seq('GTGACTGTTGTCTCCTGCAGGCTGGTATGCCACAATGGAAGAAGAGAGGACGAT...CGG', SingleLetterAlphabet()), id='TRINITY_DN13037_c0_g1_i1', name='TRINITY_DN13037_c0_g1_i1', description='TRINITY_DN13037_c0_g1_i1 len=460 path=[961:0-168 962:169-459] [-1, 961, 962, -2]', dbxrefs=[])}"
      ]
     },
     "execution_count": 57,
     "metadata": {},
     "output_type": "execute_result"
    }
   ],
   "source": [
    "#check that the dictionary looks as expected\n",
    "glance(newdict)"
   ]
  },
  {
   "cell_type": "code",
   "execution_count": 58,
   "metadata": {
    "collapsed": false
   },
   "outputs": [
    {
     "data": {
      "text/plain": [
       "120026"
      ]
     },
     "execution_count": 58,
     "metadata": {},
     "output_type": "execute_result"
    }
   ],
   "source": [
    "# filter the dictionary \"newdict\" to remove entries that do not occur in \"genelist\"\n",
    "# ie remove all genes with less than an average FPKM of 1\n",
    "\n",
    "old_dict = newdict\n",
    "wanted_keys = genelist\n",
    "filtered = {k: old_dict[k] for k in set(wanted_keys) & set(old_dict.keys())}\n",
    "\n",
    "#check the length of the new dictionary \"filtered\" to be sure it is the right length\n",
    "len(filtered)"
   ]
  },
  {
   "cell_type": "code",
   "execution_count": 59,
   "metadata": {
    "collapsed": false
   },
   "outputs": [
    {
     "data": {
      "text/plain": [
       "{'TRINITY_DN13036': SeqRecord(seq=Seq('GTGGTGTTTGTCTATATTATGGTATATTTTTTAATTAAACTGGTATTCGTTTTT...AAC', SingleLetterAlphabet()), id='TRINITY_DN13036_c0_g1_i1', name='TRINITY_DN13036_c0_g1_i1', description='TRINITY_DN13036_c0_g1_i1 len=354 path=[688:0-93 689:94-117 690:118-353] [-1, 688, 689, 690, -2]', dbxrefs=[]),\n",
       " 'TRINITY_DN13037': SeqRecord(seq=Seq('GTGACTGTTGTCTCCTGCAGGCTGGTATGCCACAATGGAAGAAGAGAGGACGAT...CGG', SingleLetterAlphabet()), id='TRINITY_DN13037_c0_g1_i1', name='TRINITY_DN13037_c0_g1_i1', description='TRINITY_DN13037_c0_g1_i1 len=460 path=[961:0-168 962:169-459] [-1, 961, 962, -2]', dbxrefs=[]),\n",
       " 'TRINITY_DN196344': SeqRecord(seq=Seq('GCCCACCACAGAATAGATATTAAACATATAAGTAATTTTATATTTTTTACACGA...CAT', SingleLetterAlphabet()), id='TRINITY_DN196344_c0_g1_i1', name='TRINITY_DN196344_c0_g1_i1', description='TRINITY_DN196344_c0_g1_i1 len=202 path=[359:0-201] [-1, 359, -2]', dbxrefs=[])}"
      ]
     },
     "execution_count": 59,
     "metadata": {},
     "output_type": "execute_result"
    }
   ],
   "source": [
    "glance(filtered)"
   ]
  },
  {
   "cell_type": "code",
   "execution_count": 60,
   "metadata": {
    "collapsed": false
   },
   "outputs": [
    {
     "data": {
      "text/plain": [
       "120026"
      ]
     },
     "execution_count": 60,
     "metadata": {},
     "output_type": "execute_result"
    }
   ],
   "source": [
    "# create list of seq records in \"filtered\"\n",
    "filteredlist= list(filtered.values())\n",
    "\n",
    "#one more check that things look right\n",
    "len(filteredlist)"
   ]
  },
  {
   "cell_type": "code",
   "execution_count": 61,
   "metadata": {
    "collapsed": false
   },
   "outputs": [
    {
     "data": {
      "text/plain": [
       "[SeqRecord(seq=Seq('GTGGTGTTTGTCTATATTATGGTATATTTTTTAATTAAACTGGTATTCGTTTTT...AAC', SingleLetterAlphabet()), id='TRINITY_DN13036_c0_g1_i1', name='TRINITY_DN13036_c0_g1_i1', description='TRINITY_DN13036_c0_g1_i1 len=354 path=[688:0-93 689:94-117 690:118-353] [-1, 688, 689, 690, -2]', dbxrefs=[]),\n",
       " SeqRecord(seq=Seq('GTGACTGTTGTCTCCTGCAGGCTGGTATGCCACAATGGAAGAAGAGAGGACGAT...CGG', SingleLetterAlphabet()), id='TRINITY_DN13037_c0_g1_i1', name='TRINITY_DN13037_c0_g1_i1', description='TRINITY_DN13037_c0_g1_i1 len=460 path=[961:0-168 962:169-459] [-1, 961, 962, -2]', dbxrefs=[])]"
      ]
     },
     "execution_count": 61,
     "metadata": {},
     "output_type": "execute_result"
    }
   ],
   "source": [
    "filteredlist[1:3]"
   ]
  },
  {
   "cell_type": "code",
   "execution_count": 62,
   "metadata": {
    "collapsed": false
   },
   "outputs": [
    {
     "data": {
      "text/plain": [
       "120026"
      ]
     },
     "execution_count": 62,
     "metadata": {},
     "output_type": "execute_result"
    }
   ],
   "source": [
    "# now write filtered list to fasta\n",
    "\n",
    "SeqIO.write(filteredlist, \"/Users/brisbin/desktop/FPKMfiltered_Trinity.fasta\", \"fasta\")"
   ]
  },
  {
   "cell_type": "code",
   "execution_count": null,
   "metadata": {
    "collapsed": true
   },
   "outputs": [],
   "source": [
    "#DONE"
   ]
  }
 ],
 "metadata": {
  "kernelspec": {
   "display_name": "Python 2",
   "language": "python",
   "name": "python2"
  },
  "language_info": {
   "codemirror_mode": {
    "name": "ipython",
    "version": 2
   },
   "file_extension": ".py",
   "mimetype": "text/x-python",
   "name": "python",
   "nbconvert_exporter": "python",
   "pygments_lexer": "ipython2",
   "version": "2.7.10"
  }
 },
 "nbformat": 4,
 "nbformat_minor": 0
}
