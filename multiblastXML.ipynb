{
 "cells": [
  {
   "cell_type": "code",
   "execution_count": 6,
   "metadata": {
    "collapsed": false
   },
   "outputs": [
    {
     "data": {
      "text/plain": [
       "'.DS_Store'"
      ]
     },
     "execution_count": 6,
     "metadata": {},
     "output_type": "execute_result"
    }
   ],
   "source": [
    "fileList=[]\n",
    "\n",
    "import os\n",
    "indir = '/Users/brisbin/desktop/blastXML'\n",
    "for root, dirs, filenames in os.walk(indir):\n",
    "    for f in filenames:\n",
    "        fileList.append(f)\n",
    "        \n",
    "fileList.pop(0)\n"
   ]
  },
  {
   "cell_type": "code",
   "execution_count": 4,
   "metadata": {
    "collapsed": false
   },
   "outputs": [],
   "source": [
    "geneIDlist=[]\n",
    "giNUMlist=[]\n",
    "\n",
    "import pdb\n",
    "for i in fileList:\n",
    "    x='/Users/brisbin/desktop/blastXML/' + i\n",
    "    blast = NCBIXML.parse(open(x,'rU'))\n",
    "    record = blast.next()\n",
    "    while record:\n",
    "        if record.alignments:\n",
    "        #print gene id\n",
    "             geneIDlist.append(record.query)\n",
    "        # to print the \"best\" matches title\n",
    "             giNUMlist.append(record.alignments[0].title)\n",
    "        try:\n",
    "            record = blast.next()\n",
    "        except:\n",
    "            break"
   ]
  },
  {
   "cell_type": "code",
   "execution_count": 5,
   "metadata": {
    "collapsed": false
   },
   "outputs": [
    {
     "data": {
      "text/plain": [
       "33261"
      ]
     },
     "execution_count": 5,
     "metadata": {},
     "output_type": "execute_result"
    }
   ],
   "source": [
    "len(geneIDlist)"
   ]
  },
  {
   "cell_type": "code",
   "execution_count": 10,
   "metadata": {
    "collapsed": false
   },
   "outputs": [
    {
     "data": {
      "text/plain": [
       "33261"
      ]
     },
     "execution_count": 10,
     "metadata": {},
     "output_type": "execute_result"
    }
   ],
   "source": [
    "newGENElist=[]\n",
    "for i in range(0,len(geneIDlist)):\n",
    "    newGENE= (geneIDlist[i].split(\" \")[0])\n",
    "    newGENElist.append(newGENE)\n",
    "\n",
    "len(newGENElist)  \n"
   ]
  },
  {
   "cell_type": "code",
   "execution_count": 59,
   "metadata": {
    "collapsed": false
   },
   "outputs": [
    {
     "data": {
      "text/plain": [
       "33261"
      ]
     },
     "execution_count": 59,
     "metadata": {},
     "output_type": "execute_result"
    }
   ],
   "source": [
    "## Species\n",
    "SPlist=[]\n",
    "for i in range(0,len(giNUMlist)):\n",
    "    newSP= (giNUMlist[i].split(\"|\")[6])\n",
    "    SPlist.append(newSP)\n",
    "\n",
    "## Species Continued\n",
    "SPlist2=[]\n",
    "for i in range(0,len(giNUMlist)):\n",
    "    newSP= (SPlist[i].split(\"[\")[-1])\n",
    "    SPlist2.append(newSP)\n",
    "\n",
    "#Species list finished\n",
    " \n",
    "SPlist3=[]\n",
    "for i in range(0,len(giNUMlist)):\n",
    "    newSP= (SPlist2[i].split(\"]\")[0])\n",
    "    SPlist3.append(newSP)\n",
    "    \n",
    "len(SPlist3)"
   ]
  },
  {
   "cell_type": "code",
   "execution_count": 60,
   "metadata": {
    "collapsed": false
   },
   "outputs": [
    {
     "name": "stdout",
     "output_type": "stream",
     "text": [
      "yes\n"
     ]
    },
    {
     "data": {
      "text/plain": [
       "9154"
      ]
     },
     "execution_count": 60,
     "metadata": {},
     "output_type": "execute_result"
    }
   ],
   "source": [
    "if 'Rous sarcoma virus' in SPlist3:\n",
    "    print 'yes'\n",
    "SPlist3.index('Rous sarcoma virus')"
   ]
  },
  {
   "cell_type": "code",
   "execution_count": 44,
   "metadata": {
    "collapsed": true
   },
   "outputs": [],
   "source": [
    "SPlist3.remove('Rous sarcoma virus')"
   ]
  },
  {
   "cell_type": "code",
   "execution_count": 45,
   "metadata": {
    "collapsed": false
   },
   "outputs": [
    {
     "data": {
      "text/plain": [
       "33260"
      ]
     },
     "execution_count": 45,
     "metadata": {},
     "output_type": "execute_result"
    }
   ],
   "source": [
    "len(SPlist3)"
   ]
  },
  {
   "cell_type": "code",
   "execution_count": 61,
   "metadata": {
    "collapsed": true
   },
   "outputs": [],
   "source": [
    "del newGENElist[9154]"
   ]
  },
  {
   "cell_type": "code",
   "execution_count": 62,
   "metadata": {
    "collapsed": false
   },
   "outputs": [],
   "source": [
    "# create a dictionary with the key as the gene id and the value as the species name\n",
    "GeneSpeciesDict={}\n",
    "\n",
    "for i in range(0,len(newGENElist)):\n",
    "    newkey = newGENElist[i]\n",
    "    GeneSpeciesDict[newkey]=SPlist3[i]\n"
   ]
  },
  {
   "cell_type": "code",
   "execution_count": 63,
   "metadata": {
    "collapsed": false
   },
   "outputs": [
    {
     "data": {
      "text/plain": [
       "{u'TRINITY_DN117013_c0_g1_i1': u'Scleropages formosus',\n",
       " u'TRINITY_DN203990_c0_g1_i1': u'Austrofundulus limnaeus',\n",
       " u'TRINITY_DN208795_c0_g1_i1': u'Neolamprologus brichardi'}"
      ]
     },
     "execution_count": 63,
     "metadata": {},
     "output_type": "execute_result"
    }
   ],
   "source": [
    "import itertools\n",
    "\n",
    "def glance(d):\n",
    "    return dict(itertools.islice(d.iteritems(), 3))\n",
    "\n",
    "glance(GeneSpeciesDict)"
   ]
  },
  {
   "cell_type": "code",
   "execution_count": 67,
   "metadata": {
    "collapsed": true
   },
   "outputs": [],
   "source": [
    "from Bio import Entrez\n",
    "Entrez.email=\"margaret.marsbrisbin@oist.jp\"\n",
    "\n",
    "taxID = {}\n",
    "\n",
    "for i in SPlist3:\n",
    "    if i in taxID:\n",
    "        continue\n",
    "    handle = Entrez.esearch(db=\"taxonomy\", term= i)\n",
    "    record = Entrez.read(handle)\n",
    "    #if not record[\"IdList\"]:\n",
    "    #    pdb.set_trace()\n",
    "    if record[\"IdList\"]:\n",
    "        taxID[i] = record[\"IdList\"][0]\n",
    "#    taxIDlist.append(record[\"IdList\"])\n",
    "    "
   ]
  },
  {
   "cell_type": "code",
   "execution_count": 68,
   "metadata": {
    "collapsed": false
   },
   "outputs": [
    {
     "data": {
      "text/plain": [
       "{u'Balaenoptera acutorostrata scammoni': '310752',\n",
       " u'Pseudomonas putida': '303',\n",
       " u'Shewanella frigidimarina': '56812'}"
      ]
     },
     "execution_count": 68,
     "metadata": {},
     "output_type": "execute_result"
    }
   ],
   "source": [
    "glance(taxID)"
   ]
  },
  {
   "cell_type": "code",
   "execution_count": 69,
   "metadata": {
    "collapsed": true
   },
   "outputs": [],
   "source": [
    "from ete2 import NCBITaxa\n",
    "ncbi = NCBITaxa()"
   ]
  },
  {
   "cell_type": "code",
   "execution_count": 71,
   "metadata": {
    "collapsed": true
   },
   "outputs": [],
   "source": [
    "lineageDict={}\n",
    "\n",
    "for i in taxID:\n",
    "    lineage = ncbi.get_lineage(taxID[i])\n",
    "    names = ncbi.get_taxid_translator(lineage)\n",
    "    key = taxID[i]\n",
    "    lineageDict[key]= [names[taxid] for taxid in lineage]"
   ]
  },
  {
   "cell_type": "code",
   "execution_count": 81,
   "metadata": {
    "collapsed": false
   },
   "outputs": [],
   "source": [
    "#glance(lineageDict)"
   ]
  },
  {
   "cell_type": "code",
   "execution_count": 82,
   "metadata": {
    "collapsed": true
   },
   "outputs": [],
   "source": [
    "# make a dictionary for Fish or Not Fish by tax id\n",
    "# 0 = Not Fish, 1 = Fish\n",
    "fishDict = {} \n",
    "\n",
    "keylist=lineageDict.keys()\n",
    "\n",
    "for i in keylist:\n",
    "    key = i\n",
    "    value = lineageDict[key]\n",
    "    if 'Teleostei' in value:\n",
    "        binary = 1\n",
    "    else:\n",
    "        binary = 0\n",
    "    fishDict[key]= binary"
   ]
  },
  {
   "cell_type": "code",
   "execution_count": 83,
   "metadata": {
    "collapsed": false
   },
   "outputs": [
    {
     "data": {
      "text/plain": [
       "{'1234592': 0, '59894': 0, '696485': 0}"
      ]
     },
     "execution_count": 83,
     "metadata": {},
     "output_type": "execute_result"
    }
   ],
   "source": [
    "glance(fishDict)"
   ]
  },
  {
   "cell_type": "code",
   "execution_count": 84,
   "metadata": {
    "collapsed": true
   },
   "outputs": [],
   "source": [
    "#Get rid of geneIDs that do not have taxonomy available (no species name in title)\n",
    "import itertools\n",
    "\n",
    "def glance(d):\n",
    "    return dict(itertools.islice(d.iteritems(), 3))\n",
    "\n",
    "\n",
    "keylist = GeneSpeciesDict.keys()\n",
    "for i in keylist:\n",
    "    if i in GeneSpeciesDict:\n",
    "        if len(GeneSpeciesDict[i])> 50:\n",
    "            del GeneSpeciesDict[i] \n",
    "\n",
    "switchTaxID = {y:x for x,y in taxID.iteritems()} "
   ]
  },
  {
   "cell_type": "code",
   "execution_count": 85,
   "metadata": {
    "collapsed": false
   },
   "outputs": [
    {
     "data": {
      "text/plain": [
       "{'1234592': u'Vibrio sp. 712i1',\n",
       " '59894': u'Ficedula albicollis',\n",
       " '696485': u'Vibrio owensii'}"
      ]
     },
     "execution_count": 85,
     "metadata": {},
     "output_type": "execute_result"
    }
   ],
   "source": [
    "glance(switchTaxID)"
   ]
  },
  {
   "cell_type": "code",
   "execution_count": 86,
   "metadata": {
    "collapsed": false
   },
   "outputs": [
    {
     "data": {
      "text/plain": [
       "{u'Balaenoptera acutorostrata scammoni': 0,\n",
       " u'Pennahia argentata': 1,\n",
       " u'Tasmanian devil retrovirus': 0}"
      ]
     },
     "execution_count": 86,
     "metadata": {},
     "output_type": "execute_result"
    }
   ],
   "source": [
    "keylist2 = fishDict.keys()\n",
    "fishDict2={}\n",
    "\n",
    "for i in keylist2:\n",
    "    key = switchTaxID[i]\n",
    "    value = fishDict[i]\n",
    "    fishDict2[key]=value\n",
    "\n",
    "glance(fishDict2)"
   ]
  },
  {
   "cell_type": "code",
   "execution_count": 88,
   "metadata": {
    "collapsed": false
   },
   "outputs": [
    {
     "data": {
      "text/plain": [
       "{u'TRINITY_DN117013_c0_g1_i1': 1,\n",
       " u'TRINITY_DN203990_c0_g1_i1': 1,\n",
       " u'TRINITY_DN208795_c0_g1_i1': 1}"
      ]
     },
     "execution_count": 88,
     "metadata": {},
     "output_type": "execute_result"
    }
   ],
   "source": [
    "keylist3=GeneSpeciesDict.keys()\n",
    "lastDict={}\n",
    "for i in keylist3:\n",
    "    if GeneSpeciesDict[i] in fishDict2:\n",
    "        newval= fishDict2[(GeneSpeciesDict[i])]\n",
    "        lastDict[i]= newval\n",
    "\n",
    "glance(lastDict)"
   ]
  },
  {
   "cell_type": "code",
   "execution_count": 90,
   "metadata": {
    "collapsed": false
   },
   "outputs": [],
   "source": [
    "with open('FishNotFish.csv', 'w') as f:\n",
    "    [f.write('{0},{1}\\n'.format(key, value)) for key, value in lastDict.items()]"
   ]
  },
  {
   "cell_type": "code",
   "execution_count": null,
   "metadata": {
    "collapsed": true
   },
   "outputs": [],
   "source": []
  }
 ],
 "metadata": {
  "kernelspec": {
   "display_name": "Python 2",
   "language": "python",
   "name": "python2"
  },
  "language_info": {
   "codemirror_mode": {
    "name": "ipython",
    "version": 2
   },
   "file_extension": ".py",
   "mimetype": "text/x-python",
   "name": "python",
   "nbconvert_exporter": "python",
   "pygments_lexer": "ipython2",
   "version": "2.7.10"
  }
 },
 "nbformat": 4,
 "nbformat_minor": 0
}
